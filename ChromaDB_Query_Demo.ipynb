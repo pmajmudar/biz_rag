{
 "cells": [
  {
   "cell_type": "code",
   "execution_count": 1,
   "id": "d5f5885b-f848-48e9-b98a-c02c92e65700",
   "metadata": {},
   "outputs": [],
   "source": [
    "# these three lines swap the stdlib sqlite3 lib with the pysqlite3 package\n",
    "__import__('pysqlite3')\n",
    "import sys\n",
    "sys.modules['sqlite3'] = sys.modules.pop('pysqlite3')"
   ]
  },
  {
   "cell_type": "code",
   "execution_count": 2,
   "id": "697cf94e-2c82-452a-a398-8352204312f8",
   "metadata": {},
   "outputs": [],
   "source": [
    "import chromadb"
   ]
  },
  {
   "cell_type": "code",
   "execution_count": 3,
   "id": "5b94d720-89b0-4493-ab27-bebe65ceb600",
   "metadata": {},
   "outputs": [],
   "source": [
    "client = chromadb.PersistentClient(path='./db')"
   ]
  },
  {
   "cell_type": "code",
   "execution_count": 5,
   "id": "4434c788-468e-4e0e-9e65-9a4619146d8b",
   "metadata": {},
   "outputs": [],
   "source": [
    "col = client.get_collection(\"langchain\")"
   ]
  },
  {
   "cell_type": "code",
   "execution_count": 16,
   "id": "2cc5db11-4de9-4349-9e94-e29dfac4b730",
   "metadata": {},
   "outputs": [
    {
     "data": {
      "text/plain": [
       "{'ids': [['62cacca6-69d5-11ee-b11c-d0577bbb7290',\n",
       "   '62d00973-69d5-11ee-b5a4-d0577bbb7290',\n",
       "   '62cacc5d-69d5-11ee-b6b5-d0577bbb7290',\n",
       "   '62cabcb3-69d5-11ee-8502-d0577bbb7290',\n",
       "   '62cead73-69d5-11ee-a05e-d0577bbb7290']],\n",
       " 'distances': [[0.9490910768508911,\n",
       "   0.95070880651474,\n",
       "   0.9606156945228577,\n",
       "   0.9924991726875305,\n",
       "   1.0358328819274902]],\n",
       " 'metadatas': [[{'row': 175,\n",
       "    'source': './innovate_uk_funded_projects_cols.csv'},\n",
       "   {'row': 576, 'source': './innovate_uk_funded_projects_cols.csv'},\n",
       "   {'row': 175, 'source': './innovate_uk_funded_projects_cols.csv'},\n",
       "   {'row': 167, 'source': './innovate_uk_funded_projects_cols.csv'},\n",
       "   {'row': 480, 'source': './innovate_uk_funded_projects_cols.csv'}]],\n",
       " 'embeddings': None,\n",
       " 'documents': [['with Long-COVID in the UK that experience a multitude of long-term-conditions (LTCs) that should be addressed in clinic, but in reality, left to manage their condition alone.',\n",
       "   'intervention for variants of Covid 19 (SARS CoV19) and Bird Flu (H5N1).',\n",
       "   'Public Description: Our solution will be available for anybody to download and will initially focus on supporting the 1,700,000 sufferers (of working-age) with Long-COVID in the UK that experience a',\n",
       "   'scalable and efficient processes. Post Covid-19 brought harsher competition for content among distributors, frequent lawsuits from talent, and the push from regulators, consolidating the need for',\n",
       "   'Public Description: Virustatic launched their flagship product, a breathable face covering called the Virustatic(r) SHIELD, in 2020 during the Covid-19 pandemic. Extensive laboratory testing and user']]}"
      ]
     },
     "execution_count": 16,
     "metadata": {},
     "output_type": "execute_result"
    }
   ],
   "source": [
    "col.query(query_texts=['covid'], n_results=5)"
   ]
  },
  {
   "cell_type": "code",
   "execution_count": 17,
   "id": "064d11cf-d501-47c2-b1f6-159cde86919f",
   "metadata": {},
   "outputs": [
    {
     "data": {
      "text/plain": [
       "\u001b[0;31mSignature:\u001b[0m\n",
       "\u001b[0mcol\u001b[0m\u001b[0;34m.\u001b[0m\u001b[0mquery\u001b[0m\u001b[0;34m(\u001b[0m\u001b[0;34m\u001b[0m\n",
       "\u001b[0;34m\u001b[0m    \u001b[0mquery_embeddings\u001b[0m\u001b[0;34m:\u001b[0m \u001b[0mUnion\u001b[0m\u001b[0;34m[\u001b[0m\u001b[0mSequence\u001b[0m\u001b[0;34m[\u001b[0m\u001b[0mfloat\u001b[0m\u001b[0;34m]\u001b[0m\u001b[0;34m,\u001b[0m \u001b[0mSequence\u001b[0m\u001b[0;34m[\u001b[0m\u001b[0mint\u001b[0m\u001b[0;34m]\u001b[0m\u001b[0;34m,\u001b[0m \u001b[0mList\u001b[0m\u001b[0;34m[\u001b[0m\u001b[0mUnion\u001b[0m\u001b[0;34m[\u001b[0m\u001b[0mSequence\u001b[0m\u001b[0;34m[\u001b[0m\u001b[0mfloat\u001b[0m\u001b[0;34m]\u001b[0m\u001b[0;34m,\u001b[0m \u001b[0mSequence\u001b[0m\u001b[0;34m[\u001b[0m\u001b[0mint\u001b[0m\u001b[0;34m]\u001b[0m\u001b[0;34m]\u001b[0m\u001b[0;34m]\u001b[0m\u001b[0;34m,\u001b[0m \u001b[0mNoneType\u001b[0m\u001b[0;34m]\u001b[0m \u001b[0;34m=\u001b[0m \u001b[0;32mNone\u001b[0m\u001b[0;34m,\u001b[0m\u001b[0;34m\u001b[0m\n",
       "\u001b[0;34m\u001b[0m    \u001b[0mquery_texts\u001b[0m\u001b[0;34m:\u001b[0m \u001b[0mUnion\u001b[0m\u001b[0;34m[\u001b[0m\u001b[0mstr\u001b[0m\u001b[0;34m,\u001b[0m \u001b[0mList\u001b[0m\u001b[0;34m[\u001b[0m\u001b[0mstr\u001b[0m\u001b[0;34m]\u001b[0m\u001b[0;34m,\u001b[0m \u001b[0mNoneType\u001b[0m\u001b[0;34m]\u001b[0m \u001b[0;34m=\u001b[0m \u001b[0;32mNone\u001b[0m\u001b[0;34m,\u001b[0m\u001b[0;34m\u001b[0m\n",
       "\u001b[0;34m\u001b[0m    \u001b[0mn_results\u001b[0m\u001b[0;34m:\u001b[0m \u001b[0mint\u001b[0m \u001b[0;34m=\u001b[0m \u001b[0;36m10\u001b[0m\u001b[0;34m,\u001b[0m\u001b[0;34m\u001b[0m\n",
       "\u001b[0;34m\u001b[0m    \u001b[0mwhere\u001b[0m\u001b[0;34m:\u001b[0m \u001b[0mOptional\u001b[0m\u001b[0;34m[\u001b[0m\u001b[0mDict\u001b[0m\u001b[0;34m[\u001b[0m\u001b[0mUnion\u001b[0m\u001b[0;34m[\u001b[0m\u001b[0mstr\u001b[0m\u001b[0;34m,\u001b[0m \u001b[0mtyping_extensions\u001b[0m\u001b[0;34m.\u001b[0m\u001b[0mLiteral\u001b[0m\u001b[0;34m[\u001b[0m\u001b[0;34m'$and'\u001b[0m\u001b[0;34m]\u001b[0m\u001b[0;34m,\u001b[0m \u001b[0mtyping_extensions\u001b[0m\u001b[0;34m.\u001b[0m\u001b[0mLiteral\u001b[0m\u001b[0;34m[\u001b[0m\u001b[0;34m'$or'\u001b[0m\u001b[0;34m]\u001b[0m\u001b[0;34m]\u001b[0m\u001b[0;34m,\u001b[0m \u001b[0mUnion\u001b[0m\u001b[0;34m[\u001b[0m\u001b[0mstr\u001b[0m\u001b[0;34m,\u001b[0m \u001b[0mint\u001b[0m\u001b[0;34m,\u001b[0m \u001b[0mfloat\u001b[0m\u001b[0;34m,\u001b[0m \u001b[0mbool\u001b[0m\u001b[0;34m,\u001b[0m \u001b[0mDict\u001b[0m\u001b[0;34m[\u001b[0m\u001b[0mUnion\u001b[0m\u001b[0;34m[\u001b[0m\u001b[0mtyping_extensions\u001b[0m\u001b[0;34m.\u001b[0m\u001b[0mLiteral\u001b[0m\u001b[0;34m[\u001b[0m\u001b[0;34m'$gt'\u001b[0m\u001b[0;34m]\u001b[0m\u001b[0;34m,\u001b[0m \u001b[0mtyping_extensions\u001b[0m\u001b[0;34m.\u001b[0m\u001b[0mLiteral\u001b[0m\u001b[0;34m[\u001b[0m\u001b[0;34m'$gte'\u001b[0m\u001b[0;34m]\u001b[0m\u001b[0;34m,\u001b[0m \u001b[0mtyping_extensions\u001b[0m\u001b[0;34m.\u001b[0m\u001b[0mLiteral\u001b[0m\u001b[0;34m[\u001b[0m\u001b[0;34m'$lt'\u001b[0m\u001b[0;34m]\u001b[0m\u001b[0;34m,\u001b[0m \u001b[0mtyping_extensions\u001b[0m\u001b[0;34m.\u001b[0m\u001b[0mLiteral\u001b[0m\u001b[0;34m[\u001b[0m\u001b[0;34m'$lte'\u001b[0m\u001b[0;34m]\u001b[0m\u001b[0;34m,\u001b[0m \u001b[0mtyping_extensions\u001b[0m\u001b[0;34m.\u001b[0m\u001b[0mLiteral\u001b[0m\u001b[0;34m[\u001b[0m\u001b[0;34m'$ne'\u001b[0m\u001b[0;34m]\u001b[0m\u001b[0;34m,\u001b[0m \u001b[0mtyping_extensions\u001b[0m\u001b[0;34m.\u001b[0m\u001b[0mLiteral\u001b[0m\u001b[0;34m[\u001b[0m\u001b[0;34m'$eq'\u001b[0m\u001b[0;34m]\u001b[0m\u001b[0;34m,\u001b[0m \u001b[0mtyping_extensions\u001b[0m\u001b[0;34m.\u001b[0m\u001b[0mLiteral\u001b[0m\u001b[0;34m[\u001b[0m\u001b[0;34m'$and'\u001b[0m\u001b[0;34m]\u001b[0m\u001b[0;34m,\u001b[0m \u001b[0mtyping_extensions\u001b[0m\u001b[0;34m.\u001b[0m\u001b[0mLiteral\u001b[0m\u001b[0;34m[\u001b[0m\u001b[0;34m'$or'\u001b[0m\u001b[0;34m]\u001b[0m\u001b[0;34m]\u001b[0m\u001b[0;34m,\u001b[0m \u001b[0mUnion\u001b[0m\u001b[0;34m[\u001b[0m\u001b[0mstr\u001b[0m\u001b[0;34m,\u001b[0m \u001b[0mint\u001b[0m\u001b[0;34m,\u001b[0m \u001b[0mfloat\u001b[0m\u001b[0;34m,\u001b[0m \u001b[0mbool\u001b[0m\u001b[0;34m]\u001b[0m\u001b[0;34m]\u001b[0m\u001b[0;34m,\u001b[0m \u001b[0mDict\u001b[0m\u001b[0;34m[\u001b[0m\u001b[0mUnion\u001b[0m\u001b[0;34m[\u001b[0m\u001b[0mtyping_extensions\u001b[0m\u001b[0;34m.\u001b[0m\u001b[0mLiteral\u001b[0m\u001b[0;34m[\u001b[0m\u001b[0;34m'$in'\u001b[0m\u001b[0;34m]\u001b[0m\u001b[0;34m,\u001b[0m \u001b[0mtyping_extensions\u001b[0m\u001b[0;34m.\u001b[0m\u001b[0mLiteral\u001b[0m\u001b[0;34m[\u001b[0m\u001b[0;34m'$nin'\u001b[0m\u001b[0;34m]\u001b[0m\u001b[0;34m]\u001b[0m\u001b[0;34m,\u001b[0m \u001b[0mList\u001b[0m\u001b[0;34m[\u001b[0m\u001b[0mUnion\u001b[0m\u001b[0;34m[\u001b[0m\u001b[0mstr\u001b[0m\u001b[0;34m,\u001b[0m \u001b[0mint\u001b[0m\u001b[0;34m,\u001b[0m \u001b[0mfloat\u001b[0m\u001b[0;34m,\u001b[0m \u001b[0mbool\u001b[0m\u001b[0;34m]\u001b[0m\u001b[0;34m]\u001b[0m\u001b[0;34m]\u001b[0m\u001b[0;34m,\u001b[0m \u001b[0mList\u001b[0m\u001b[0;34m[\u001b[0m\u001b[0mForwardRef\u001b[0m\u001b[0;34m(\u001b[0m\u001b[0;34m'Where'\u001b[0m\u001b[0;34m)\u001b[0m\u001b[0;34m]\u001b[0m\u001b[0;34m]\u001b[0m\u001b[0;34m]\u001b[0m\u001b[0;34m]\u001b[0m \u001b[0;34m=\u001b[0m \u001b[0;32mNone\u001b[0m\u001b[0;34m,\u001b[0m\u001b[0;34m\u001b[0m\n",
       "\u001b[0;34m\u001b[0m    \u001b[0mwhere_document\u001b[0m\u001b[0;34m:\u001b[0m \u001b[0mOptional\u001b[0m\u001b[0;34m[\u001b[0m\u001b[0mDict\u001b[0m\u001b[0;34m[\u001b[0m\u001b[0mUnion\u001b[0m\u001b[0;34m[\u001b[0m\u001b[0mtyping_extensions\u001b[0m\u001b[0;34m.\u001b[0m\u001b[0mLiteral\u001b[0m\u001b[0;34m[\u001b[0m\u001b[0;34m'$contains'\u001b[0m\u001b[0;34m]\u001b[0m\u001b[0;34m,\u001b[0m \u001b[0mtyping_extensions\u001b[0m\u001b[0;34m.\u001b[0m\u001b[0mLiteral\u001b[0m\u001b[0;34m[\u001b[0m\u001b[0;34m'$and'\u001b[0m\u001b[0;34m]\u001b[0m\u001b[0;34m,\u001b[0m \u001b[0mtyping_extensions\u001b[0m\u001b[0;34m.\u001b[0m\u001b[0mLiteral\u001b[0m\u001b[0;34m[\u001b[0m\u001b[0;34m'$or'\u001b[0m\u001b[0;34m]\u001b[0m\u001b[0;34m]\u001b[0m\u001b[0;34m,\u001b[0m \u001b[0mUnion\u001b[0m\u001b[0;34m[\u001b[0m\u001b[0mstr\u001b[0m\u001b[0;34m,\u001b[0m \u001b[0mList\u001b[0m\u001b[0;34m[\u001b[0m\u001b[0mForwardRef\u001b[0m\u001b[0;34m(\u001b[0m\u001b[0;34m'WhereDocument'\u001b[0m\u001b[0;34m)\u001b[0m\u001b[0;34m]\u001b[0m\u001b[0;34m]\u001b[0m\u001b[0;34m]\u001b[0m\u001b[0;34m]\u001b[0m \u001b[0;34m=\u001b[0m \u001b[0;32mNone\u001b[0m\u001b[0;34m,\u001b[0m\u001b[0;34m\u001b[0m\n",
       "\u001b[0;34m\u001b[0m    \u001b[0minclude\u001b[0m\u001b[0;34m:\u001b[0m \u001b[0mList\u001b[0m\u001b[0;34m[\u001b[0m\u001b[0mUnion\u001b[0m\u001b[0;34m[\u001b[0m\u001b[0mtyping_extensions\u001b[0m\u001b[0;34m.\u001b[0m\u001b[0mLiteral\u001b[0m\u001b[0;34m[\u001b[0m\u001b[0;34m'documents'\u001b[0m\u001b[0;34m]\u001b[0m\u001b[0;34m,\u001b[0m \u001b[0mtyping_extensions\u001b[0m\u001b[0;34m.\u001b[0m\u001b[0mLiteral\u001b[0m\u001b[0;34m[\u001b[0m\u001b[0;34m'embeddings'\u001b[0m\u001b[0;34m]\u001b[0m\u001b[0;34m,\u001b[0m \u001b[0mtyping_extensions\u001b[0m\u001b[0;34m.\u001b[0m\u001b[0mLiteral\u001b[0m\u001b[0;34m[\u001b[0m\u001b[0;34m'metadatas'\u001b[0m\u001b[0;34m]\u001b[0m\u001b[0;34m,\u001b[0m \u001b[0mtyping_extensions\u001b[0m\u001b[0;34m.\u001b[0m\u001b[0mLiteral\u001b[0m\u001b[0;34m[\u001b[0m\u001b[0;34m'distances'\u001b[0m\u001b[0;34m]\u001b[0m\u001b[0;34m]\u001b[0m\u001b[0;34m]\u001b[0m \u001b[0;34m=\u001b[0m \u001b[0;34m[\u001b[0m\u001b[0;34m'metadatas'\u001b[0m\u001b[0;34m,\u001b[0m \u001b[0;34m'documents'\u001b[0m\u001b[0;34m,\u001b[0m \u001b[0;34m'distances'\u001b[0m\u001b[0;34m]\u001b[0m\u001b[0;34m,\u001b[0m\u001b[0;34m\u001b[0m\n",
       "\u001b[0;34m\u001b[0m\u001b[0;34m)\u001b[0m \u001b[0;34m->\u001b[0m \u001b[0mchromadb\u001b[0m\u001b[0;34m.\u001b[0m\u001b[0mapi\u001b[0m\u001b[0;34m.\u001b[0m\u001b[0mtypes\u001b[0m\u001b[0;34m.\u001b[0m\u001b[0mQueryResult\u001b[0m\u001b[0;34m\u001b[0m\u001b[0;34m\u001b[0m\u001b[0m\n",
       "\u001b[0;31mDocstring:\u001b[0m\n",
       "Get the n_results nearest neighbor embeddings for provided query_embeddings or query_texts.\n",
       "\n",
       "Args:\n",
       "    query_embeddings: The embeddings to get the closes neighbors of. Optional.\n",
       "    query_texts: The document texts to get the closes neighbors of. Optional.\n",
       "    n_results: The number of neighbors to return for each query_embedding or query_texts. Optional.\n",
       "    where: A Where type dict used to filter results by. E.g. `{\"$and\": [\"color\" : \"red\", \"price\": {\"$gte\": 4.20}]}`. Optional.\n",
       "    where_document: A WhereDocument type dict used to filter by the documents. E.g. `{$contains: {\"text\": \"hello\"}}`. Optional.\n",
       "    include: A list of what to include in the results. Can contain `\"embeddings\"`, `\"metadatas\"`, `\"documents\"`, `\"distances\"`. Ids are always included. Defaults to `[\"metadatas\", \"documents\", \"distances\"]`. Optional.\n",
       "\n",
       "Returns:\n",
       "    QueryResult: A QueryResult object containing the results.\n",
       "\n",
       "Raises:\n",
       "    ValueError: If you don't provide either query_embeddings or query_texts\n",
       "    ValueError: If you provide both query_embeddings and query_texts\n",
       "\u001b[0;31mFile:\u001b[0m      ~/.pyenv/versions/3.9.9/envs/biz_rag/lib/python3.9/site-packages/chromadb/api/models/Collection.py\n",
       "\u001b[0;31mType:\u001b[0m      method"
      ]
     },
     "metadata": {},
     "output_type": "display_data"
    }
   ],
   "source": [
    "col.query?"
   ]
  },
  {
   "cell_type": "code",
   "execution_count": null,
   "id": "d77fed8e-073c-4e1c-9536-50bc5dd0ab18",
   "metadata": {},
   "outputs": [],
   "source": []
  },
  {
   "cell_type": "code",
   "execution_count": null,
   "id": "de1abefa-ca30-4825-b3c9-4ac207c5845d",
   "metadata": {},
   "outputs": [],
   "source": []
  },
  {
   "cell_type": "code",
   "execution_count": null,
   "id": "1185a30c-729b-426e-b47d-6b0d7517a4f6",
   "metadata": {},
   "outputs": [],
   "source": []
  },
  {
   "cell_type": "code",
   "execution_count": null,
   "id": "05f7851c-058a-428f-a661-306ff1f30a34",
   "metadata": {},
   "outputs": [],
   "source": []
  },
  {
   "cell_type": "code",
   "execution_count": null,
   "id": "0f9cd96b-fda5-49dc-b3a2-610cce33ea51",
   "metadata": {},
   "outputs": [],
   "source": []
  },
  {
   "cell_type": "code",
   "execution_count": null,
   "id": "62cd0995-7f8d-43f7-b594-549cb2d3bb11",
   "metadata": {},
   "outputs": [],
   "source": []
  },
  {
   "cell_type": "code",
   "execution_count": null,
   "id": "ad0e51ea-c272-4b16-ba90-ce09946d11eb",
   "metadata": {},
   "outputs": [],
   "source": []
  },
  {
   "cell_type": "code",
   "execution_count": null,
   "id": "ff4ec467-f64a-43b8-a3a7-822c30293118",
   "metadata": {},
   "outputs": [],
   "source": []
  },
  {
   "cell_type": "code",
   "execution_count": null,
   "id": "62cce241-6b71-4de6-8f6a-5d5ae576c184",
   "metadata": {},
   "outputs": [],
   "source": []
  },
  {
   "cell_type": "code",
   "execution_count": null,
   "id": "1a705da1-3450-4af3-8495-8a96d2cf1edb",
   "metadata": {},
   "outputs": [],
   "source": []
  },
  {
   "cell_type": "code",
   "execution_count": null,
   "id": "fbf2dafc-55e0-43cf-aed8-0757ef8110bb",
   "metadata": {},
   "outputs": [],
   "source": []
  },
  {
   "cell_type": "code",
   "execution_count": null,
   "id": "c731213e-f81c-434f-9823-fcf1f4f53d49",
   "metadata": {},
   "outputs": [],
   "source": []
  },
  {
   "cell_type": "code",
   "execution_count": null,
   "id": "ea058478-9e9c-4dbe-b524-689c5a0d087e",
   "metadata": {},
   "outputs": [],
   "source": []
  },
  {
   "cell_type": "code",
   "execution_count": null,
   "id": "78cfa7a8-8fc5-45c0-b5bf-d4480316f288",
   "metadata": {},
   "outputs": [],
   "source": []
  },
  {
   "cell_type": "code",
   "execution_count": null,
   "id": "d1ca1152-4bf3-4ed4-bcbc-cebc35195249",
   "metadata": {},
   "outputs": [],
   "source": []
  },
  {
   "cell_type": "code",
   "execution_count": null,
   "id": "0983bc39-0921-411a-b39f-5c5d48e875b5",
   "metadata": {},
   "outputs": [],
   "source": []
  },
  {
   "cell_type": "code",
   "execution_count": null,
   "id": "a792bc01-5d07-4b8f-8e24-f656678e8e1c",
   "metadata": {},
   "outputs": [],
   "source": []
  },
  {
   "cell_type": "code",
   "execution_count": null,
   "id": "cfa72447-d2be-4317-ac2c-4f009c3472b5",
   "metadata": {},
   "outputs": [],
   "source": []
  },
  {
   "cell_type": "code",
   "execution_count": null,
   "id": "9bbc176c-5f88-4cc2-b49e-7968780ce8c3",
   "metadata": {},
   "outputs": [],
   "source": []
  },
  {
   "cell_type": "code",
   "execution_count": null,
   "id": "125e47e2-2f6a-41b3-9550-99e914ef19f4",
   "metadata": {},
   "outputs": [],
   "source": []
  },
  {
   "cell_type": "code",
   "execution_count": null,
   "id": "ad804091-6165-4902-b9f4-d6a343984926",
   "metadata": {},
   "outputs": [],
   "source": []
  },
  {
   "cell_type": "code",
   "execution_count": null,
   "id": "555c8ec4-4d49-45a8-9625-c5390a41337d",
   "metadata": {},
   "outputs": [],
   "source": []
  },
  {
   "cell_type": "code",
   "execution_count": 6,
   "id": "746a8982-79a4-430e-b469-a100a7af6377",
   "metadata": {},
   "outputs": [
    {
     "data": {
      "text/plain": [
       "{'ids': [['62d10bf6-69d5-11ee-96af-d0577bbb7290',\n",
       "   '62d09e45-69d5-11ee-8393-d0577bbb7290',\n",
       "   '62d153c9-69d5-11ee-bb58-d0577bbb7290',\n",
       "   '62d12a0f-69d5-11ee-aaaf-d0577bbb7290',\n",
       "   '62d1e3d1-69d5-11ee-aa3f-d0577bbb7290']],\n",
       " 'distances': [[0.7783816456794739,\n",
       "   0.8313537240028381,\n",
       "   0.8489236831665039,\n",
       "   0.8498576283454895,\n",
       "   0.8539295196533203]],\n",
       " 'metadatas': [[{'row': 655,\n",
       "    'source': './innovate_uk_funded_projects_cols.csv'},\n",
       "   {'row': 622, 'source': './innovate_uk_funded_projects_cols.csv'},\n",
       "   {'row': 682, 'source': './innovate_uk_funded_projects_cols.csv'},\n",
       "   {'row': 669, 'source': './innovate_uk_funded_projects_cols.csv'},\n",
       "   {'row': 725, 'source': './innovate_uk_funded_projects_cols.csv'}]],\n",
       " 'embeddings': None,\n",
       " 'documents': [['Public Description: The significant expansion in the field of Artificial Intelligence (AI) has been propelled by advances in machine learning algorithms, the availability of large-scale datasets, and',\n",
       "   'We combine machine learning models with mechanistic approaches to unite an understanding of the underlying system dynamics with the nuances of real-world operation. This is then combined with a smart',\n",
       "   'This includes working with subject experts to identify bias that exists in the underlying data as well as any that can arise during machine learning processing. During AI development and training, we',\n",
       "   \"Public Description: In today's AI and Digital era, most companies work with, deploy, or are using AI assets incorporating machine learning/deep learning models. In this context, AI assists\",\n",
       "   'Data is essential for AI development as it is the fuel powering the ML algorithms. Bias in the training datasets and the lack of interpretability will limit the effectiveness of such technologies.']]}"
      ]
     },
     "execution_count": 6,
     "metadata": {},
     "output_type": "execute_result"
    }
   ],
   "source": [
    "col.query(query_texts=['machine learning and AI'], n_results=5)"
   ]
  },
  {
   "cell_type": "code",
   "execution_count": 7,
   "id": "43b8da4e-66e9-4b9c-93f0-c9270cdecf65",
   "metadata": {},
   "outputs": [
    {
     "data": {
      "text/plain": [
       "{'ids': [['62cc82ca-69d5-11ee-a336-d0577bbb7290',\n",
       "   '62cc7bd0-69d5-11ee-989e-d0577bbb7290',\n",
       "   '62cc84af-69d5-11ee-a550-d0577bbb7290',\n",
       "   '62ce34b4-69d5-11ee-a426-d0577bbb7290',\n",
       "   '62d09ef3-69d5-11ee-8997-d0577bbb7290']],\n",
       " 'distances': [[0.6891800165176392,\n",
       "   0.6942620873451233,\n",
       "   0.7706228494644165,\n",
       "   0.8003877401351929,\n",
       "   0.8167765140533447]],\n",
       " 'metadatas': [[{'row': 331,\n",
       "    'source': './innovate_uk_funded_projects_cols.csv'},\n",
       "   {'row': 329, 'source': './innovate_uk_funded_projects_cols.csv'},\n",
       "   {'row': 331, 'source': './innovate_uk_funded_projects_cols.csv'},\n",
       "   {'row': 450, 'source': './innovate_uk_funded_projects_cols.csv'},\n",
       "   {'row': 622, 'source': './innovate_uk_funded_projects_cols.csv'}]],\n",
       " 'embeddings': None,\n",
       " 'documents': [['in biological engineering across agroindustry, biotech, pharma, diagnostics and treatment of disease. A key challenge that accompanies the resulting opportunities is for staff scientists to make',\n",
       "   'and operate. Fermtech are an Oxford-based biotech start-up developing an ultra low-cost way to produce animal-free proteins to do the job. The technology harnesses the power of fungi, grown on waste',\n",
       "   'work and increase productivity of scientists and technicians working across biological engineering areas, including for molecular diagnostics, improving agricultural practices, and synthetic biology.',\n",
       "   'for a more sustainable and more affordable food, cosmetics, and even pharmaceutical ingredient production. Moreover, our approach carries broader implications for the biotechnology industry, as our',\n",
       "   'New Wave Biotech is now developing functionality to automate techno-economic analysis, allowing our customers to have a clear view of the costs and payback time of different bioprocessing options.']]}"
      ]
     },
     "execution_count": 7,
     "metadata": {},
     "output_type": "execute_result"
    }
   ],
   "source": [
    "col.query(query_texts=['biotech'], n_results=5)"
   ]
  },
  {
   "cell_type": "code",
   "execution_count": 15,
   "id": "76ca496a-5620-4bd4-93aa-d0339700550b",
   "metadata": {},
   "outputs": [
    {
     "data": {
      "text/plain": [
       "{'ids': [['62d094e6-69d5-11ee-906c-d0577bbb7290',\n",
       "   '62cf08ed-69d5-11ee-b9e7-d0577bbb7290',\n",
       "   '62ce79fc-69d5-11ee-a0cf-d0577bbb7290',\n",
       "   '62cf057d-69d5-11ee-8962-d0577bbb7290',\n",
       "   '62cd2f83-69d5-11ee-a625-d0577bbb7290']],\n",
       " 'distances': [[0.6902843713760376,\n",
       "   0.9179933071136475,\n",
       "   0.9580996036529541,\n",
       "   0.9751062393188477,\n",
       "   1.0374927520751953]],\n",
       " 'metadatas': [[{'row': 620,\n",
       "    'source': './innovate_uk_funded_projects_cols.csv'},\n",
       "   {'row': 503, 'source': './innovate_uk_funded_projects_cols.csv'},\n",
       "   {'row': 468, 'source': './innovate_uk_funded_projects_cols.csv'},\n",
       "   {'row': 503, 'source': './innovate_uk_funded_projects_cols.csv'},\n",
       "   {'row': 376, 'source': './innovate_uk_funded_projects_cols.csv'}]],\n",
       " 'embeddings': None,\n",
       " 'documents': [['Public Description: Transformers and large language models have shown great potential in processing language-based information. Their strenth in connecting large and complex date sets makes them',\n",
       "   'to transform the way that language models are used and deployed across a range of different industries and applications.',\n",
       "   'large language model is trained on real-time sports data and content to create a user-friendly interface for analyzing data-heavy sports domains. Our platform will provide unique insights and',\n",
       "   'Public Description: Our project is focused on conducting a feasibility study to develop a layer that sits between a language model (LLM) and individual users to act as a filter between the user input',\n",
       "   'Public Description: The late 2022/early 2023 developments in language-based AI models have especially revealed impressive competencies in text generation and question-answering contexts. However,']]}"
      ]
     },
     "execution_count": 15,
     "metadata": {},
     "output_type": "execute_result"
    }
   ],
   "source": [
    "col.query(query_texts=['large language models'], n_results=5)"
   ]
  },
  {
   "cell_type": "code",
   "execution_count": null,
   "id": "120e3d9a-c1ba-499e-bb12-6c0fa126a30b",
   "metadata": {},
   "outputs": [],
   "source": []
  }
 ],
 "metadata": {
  "kernelspec": {
   "display_name": "Python 3 (ipykernel)",
   "language": "python",
   "name": "python3"
  },
  "language_info": {
   "codemirror_mode": {
    "name": "ipython",
    "version": 3
   },
   "file_extension": ".py",
   "mimetype": "text/x-python",
   "name": "python",
   "nbconvert_exporter": "python",
   "pygments_lexer": "ipython3",
   "version": "3.9.9"
  }
 },
 "nbformat": 4,
 "nbformat_minor": 5
}
